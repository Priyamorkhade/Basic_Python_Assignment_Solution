{
 "cells": [
  {
   "cell_type": "code",
   "execution_count": null,
   "id": "122aaf79",
   "metadata": {},
   "outputs": [],
   "source": [
    "'''\n",
    "\n",
    "'''"
   ]
  },
  {
   "cell_type": "code",
   "execution_count": null,
   "id": "a47f48b8",
   "metadata": {},
   "outputs": [],
   "source": [
    "\"\"\"\n",
    "\n",
    "Q1]** What is 7 to the power of 4?**\n",
    "\n",
    "\"\"\""
   ]
  },
  {
   "cell_type": "code",
   "execution_count": 3,
   "id": "96ac28e5",
   "metadata": {},
   "outputs": [
    {
     "data": {
      "text/plain": [
       "2401"
      ]
     },
     "execution_count": 3,
     "metadata": {},
     "output_type": "execute_result"
    }
   ],
   "source": [
    "7**4"
   ]
  },
  {
   "cell_type": "code",
   "execution_count": null,
   "id": "f867505e",
   "metadata": {},
   "outputs": [],
   "source": [
    "'''\n",
    "** Q2] Split this string:**\n",
    "\n",
    "    s = \"Hi there Yogesh!\"\n",
    "    \n",
    "**into a list. **\n",
    "'''"
   ]
  },
  {
   "cell_type": "code",
   "execution_count": 5,
   "id": "9d775ee6",
   "metadata": {},
   "outputs": [],
   "source": [
    "s = \"Hi there Yogesh!\""
   ]
  },
  {
   "cell_type": "code",
   "execution_count": 6,
   "id": "c3cd9d4e",
   "metadata": {},
   "outputs": [
    {
     "data": {
      "text/plain": [
       "['Hi', 'there', 'Yogesh!']"
      ]
     },
     "execution_count": 6,
     "metadata": {},
     "output_type": "execute_result"
    }
   ],
   "source": [
    "s.split()"
   ]
  },
  {
   "cell_type": "code",
   "execution_count": null,
   "id": "c44238b2",
   "metadata": {},
   "outputs": [],
   "source": [
    "'''\n",
    "**Q3] Given the variables:**\n",
    "\n",
    "    planet = \"Earth\"\n",
    "    diameter = 12742\n",
    "\n",
    "** Use .format() to print the following string: **\n",
    "\n",
    "    The diameter of Earth is 12742 kilometers.\n",
    "'''"
   ]
  },
  {
   "cell_type": "code",
   "execution_count": 7,
   "id": "0f9dbbbe",
   "metadata": {},
   "outputs": [],
   "source": [
    "planet = \"Earth\"\n",
    "diameter = 12742"
   ]
  },
  {
   "cell_type": "code",
   "execution_count": 10,
   "id": "288ce40f",
   "metadata": {},
   "outputs": [
    {
     "data": {
      "text/plain": [
       "'The diameter of Earth is 12742 kilometers.'"
      ]
     },
     "execution_count": 10,
     "metadata": {},
     "output_type": "execute_result"
    }
   ],
   "source": [
    "\"The diameter of {} is {} kilometers.\".format(planet,diameter)"
   ]
  },
  {
   "cell_type": "code",
   "execution_count": null,
   "id": "3ba370b3",
   "metadata": {},
   "outputs": [],
   "source": [
    "'''\n",
    "**Q4] Given this nested list, use indexing to grab the word \"hello\" **\n",
    "\n",
    "lst = [1,2,[3,4],[5,[100,200,['hello']],23,11],1,7]\n",
    "'''"
   ]
  },
  {
   "cell_type": "code",
   "execution_count": 11,
   "id": "69c9c77c",
   "metadata": {},
   "outputs": [],
   "source": [
    "lst = [1,2,[3,4],[5,[100,200,['hello']],23,11],1,7]"
   ]
  },
  {
   "cell_type": "code",
   "execution_count": 12,
   "id": "0db541c3",
   "metadata": {},
   "outputs": [
    {
     "data": {
      "text/plain": [
       "'hello'"
      ]
     },
     "execution_count": 12,
     "metadata": {},
     "output_type": "execute_result"
    }
   ],
   "source": [
    "lst[3][1][2][0]"
   ]
  },
  {
   "cell_type": "code",
   "execution_count": null,
   "id": "482d9881",
   "metadata": {},
   "outputs": [],
   "source": [
    "'''\n",
    "** Q5]Given this nested dictionary grab the word \"hello\". Be prepared, this will be annoying/tricky **\n",
    "\n",
    "    d = {'k1':[1,2,3,{'tricky':['oh','man','inception',{'target':[1,2,3,'hello']}]}]}\n",
    "'''"
   ]
  },
  {
   "cell_type": "code",
   "execution_count": 13,
   "id": "fc4d0696",
   "metadata": {},
   "outputs": [],
   "source": [
    "d = {'k1':[1,2,3,{'tricky':['oh','man','inception',{'target':[1,2,3,'hello']}]}]}"
   ]
  },
  {
   "cell_type": "code",
   "execution_count": 19,
   "id": "6dbfb57a",
   "metadata": {},
   "outputs": [
    {
     "data": {
      "text/plain": [
       "'hello'"
      ]
     },
     "execution_count": 19,
     "metadata": {},
     "output_type": "execute_result"
    }
   ],
   "source": [
    "d['k1'][3]['tricky'][3]['target'][3]"
   ]
  },
  {
   "cell_type": "code",
   "execution_count": null,
   "id": "99fa2fd9",
   "metadata": {},
   "outputs": [],
   "source": [
    "'''\n",
    "** Q6]What is the main difference between a tuple and a list? **\n",
    "'''"
   ]
  },
  {
   "cell_type": "code",
   "execution_count": null,
   "id": "17e1f4b2",
   "metadata": {},
   "outputs": [],
   "source": [
    "#tuple is enclosed in ()paranthesis\n",
    "#list is enclosed in [] square brackets\n",
    "#tuple is immutable\n",
    "#list is mutable"
   ]
  },
  {
   "cell_type": "code",
   "execution_count": null,
   "id": "bb9e9de3",
   "metadata": {},
   "outputs": [],
   "source": [
    "'''\n",
    "**Q7] Create a function that grabs the email website domain from a string in the form: **\n",
    "\n",
    "    user@domain.com\n",
    "    \n",
    "**So for example, passing \"user@domain.com\" would return: domain.com**\n",
    "'''"
   ]
  },
  {
   "cell_type": "code",
   "execution_count": 32,
   "id": "82046d62",
   "metadata": {},
   "outputs": [],
   "source": [
    "def fun_Domain(email):\n",
    "     return email.split('@')[1]\n",
    "    "
   ]
  },
  {
   "cell_type": "code",
   "execution_count": 33,
   "id": "6d696595",
   "metadata": {},
   "outputs": [
    {
     "data": {
      "text/plain": [
       "'domain.com'"
      ]
     },
     "execution_count": 33,
     "metadata": {},
     "output_type": "execute_result"
    }
   ],
   "source": [
    "fun_Domain('user@domain.com')"
   ]
  },
  {
   "cell_type": "code",
   "execution_count": 34,
   "id": "ffedf708",
   "metadata": {},
   "outputs": [
    {
     "data": {
      "text/plain": [
       "'gmail.com'"
      ]
     },
     "execution_count": 34,
     "metadata": {},
     "output_type": "execute_result"
    }
   ],
   "source": [
    "fun_Domain(\"priyamorkhade@gmail.com\")"
   ]
  },
  {
   "cell_type": "code",
   "execution_count": null,
   "id": "f97851bb",
   "metadata": {},
   "outputs": [],
   "source": [
    "'''\n",
    "**Q8] Create a basic function that returns True if the word 'dog' is contained in the input string.\n",
    "Don't worry about edge cases like a punctuation being attached to the word dog, \n",
    "but do account for capitalization. **\n",
    "\n",
    "findDog('Is there a dog here?')\n",
    "'''"
   ]
  },
  {
   "cell_type": "code",
   "execution_count": 39,
   "id": "70ad0317",
   "metadata": {},
   "outputs": [
    {
     "data": {
      "text/plain": [
       "True"
      ]
     },
     "execution_count": 39,
     "metadata": {},
     "output_type": "execute_result"
    }
   ],
   "source": [
    "'dog' in 'Is there a dog here'.lower().split()\n",
    "    "
   ]
  },
  {
   "cell_type": "code",
   "execution_count": 40,
   "id": "4ad32156",
   "metadata": {},
   "outputs": [],
   "source": [
    "def findDog(t):\n",
    "    return 'dog' in t.lower().split()"
   ]
  },
  {
   "cell_type": "code",
   "execution_count": 41,
   "id": "792e73a1",
   "metadata": {},
   "outputs": [
    {
     "data": {
      "text/plain": [
       "True"
      ]
     },
     "execution_count": 41,
     "metadata": {},
     "output_type": "execute_result"
    }
   ],
   "source": [
    "findDog('Is there a dog here?')"
   ]
  },
  {
   "cell_type": "code",
   "execution_count": null,
   "id": "3d71f89b",
   "metadata": {},
   "outputs": [],
   "source": [
    "'''\n",
    "** Q9] Create a function that counts the number of times the word \"dog\" occurs in a string. \n",
    "    Again ignore edge cases. **\n",
    "'''"
   ]
  },
  {
   "cell_type": "code",
   "execution_count": 4,
   "id": "71a780ff",
   "metadata": {},
   "outputs": [],
   "source": [
    "def count_dog(s):\n",
    "    return s.count('dog')"
   ]
  },
  {
   "cell_type": "code",
   "execution_count": 2,
   "id": "9aafc2f7",
   "metadata": {},
   "outputs": [
    {
     "data": {
      "text/plain": [
       "3"
      ]
     },
     "execution_count": 2,
     "metadata": {},
     "output_type": "execute_result"
    }
   ],
   "source": [
    "count_dog('This dog runs dog faster than the other dog dude!')"
   ]
  },
  {
   "cell_type": "code",
   "execution_count": null,
   "id": "b0918028",
   "metadata": {},
   "outputs": [],
   "source": [
    "'''\n",
    "** Q10] Use lambda expressions and the filter() function to filter out words from a list that don't \n",
    "       start with the letter 's'. For example:**\n",
    "\n",
    "    seq = ['soup','dog','salad','cat','great']\n",
    "\n",
    "**should be filtered down to:**\n",
    "\n",
    "    ['soup','salad']\n",
    "'''"
   ]
  },
  {
   "cell_type": "code",
   "execution_count": 5,
   "id": "7a149d1f",
   "metadata": {},
   "outputs": [],
   "source": [
    "seq = ['soup','dog','salad','cat','great']"
   ]
  },
  {
   "cell_type": "code",
   "execution_count": 6,
   "id": "707a6ac8",
   "metadata": {},
   "outputs": [
    {
     "data": {
      "text/plain": [
       "<filter at 0x1b168b06610>"
      ]
     },
     "execution_count": 6,
     "metadata": {},
     "output_type": "execute_result"
    }
   ],
   "source": [
    "filter(lambda x:x[0]!='s',seq)"
   ]
  },
  {
   "cell_type": "code",
   "execution_count": 7,
   "id": "2e2519cc",
   "metadata": {},
   "outputs": [
    {
     "data": {
      "text/plain": [
       "['dog', 'cat', 'great']"
      ]
     },
     "execution_count": 7,
     "metadata": {},
     "output_type": "execute_result"
    }
   ],
   "source": [
    "list(filter(lambda x:x[0]!='s',seq))"
   ]
  },
  {
   "cell_type": "code",
   "execution_count": null,
   "id": "dc19694b",
   "metadata": {},
   "outputs": [],
   "source": [
    "'''\n",
    "###   Final Problem\n",
    "**Q11] You are driving a little too fast, and a police officer stops you. Write a function\n",
    "  to return one of 3 possible results: \"No ticket\", \"Small ticket\", or \"Big Ticket\". \n",
    "  If your speed is 60 or less, the result is \"No Ticket\". If speed is between 61 \n",
    "  and 80 inclusive, the result is \"Small Ticket\". If speed is 81 or more, the result is \"Big    Ticket\". Unless it is your birthday (encoded as a boolean value in the parameters of the function) -- on your birthday, your speed can be 5 higher in all \n",
    "  cases. **,\n",
    "'''"
   ]
  },
  {
   "cell_type": "code",
   "execution_count": 8,
   "id": "b0d5177b",
   "metadata": {},
   "outputs": [],
   "source": [
    "def caught_speeding(speed,is_birthday):\n",
    "    if is_birthday==True:\n",
    "        speed2 = speed-5\n",
    "    else:\n",
    "        speed2 = speed\n",
    "    if speed2<=60:\n",
    "        print(\"No Ticket\")\n",
    "    elif speed2>=81:\n",
    "        print(\"Big Ticket\")\n",
    "    else:\n",
    "        print(\"small ticket\")"
   ]
  },
  {
   "cell_type": "code",
   "execution_count": 9,
   "id": "05ba46cf",
   "metadata": {},
   "outputs": [
    {
     "name": "stdout",
     "output_type": "stream",
     "text": [
      "No Ticket\n"
     ]
    }
   ],
   "source": [
    "caught_speeding(64,True)"
   ]
  },
  {
   "cell_type": "code",
   "execution_count": 10,
   "id": "7b29aa91",
   "metadata": {},
   "outputs": [
    {
     "name": "stdout",
     "output_type": "stream",
     "text": [
      "Big Ticket\n"
     ]
    }
   ],
   "source": [
    "caught_speeding(81,False)"
   ]
  },
  {
   "cell_type": "code",
   "execution_count": 11,
   "id": "27093116",
   "metadata": {},
   "outputs": [
    {
     "name": "stdout",
     "output_type": "stream",
     "text": [
      "small ticket\n"
     ]
    }
   ],
   "source": [
    "caught_speeding(78,True)"
   ]
  },
  {
   "cell_type": "code",
   "execution_count": null,
   "id": "9ac6a57c",
   "metadata": {},
   "outputs": [],
   "source": [
    "'''\n",
    "Question\n",
    " Q13]Given a string print number num by extracting all the\n",
    "digits from the string as in string\n",
    "Print negative number if the first character in \n",
    "string is '-'\n",
    "eg.\n",
    "-123abcd should return -123,abcd456-->456,fdhfh78dsd89--->7889,-56dssd78-->-5678\n",
    "'''"
   ]
  },
  {
   "cell_type": "code",
   "execution_count": 14,
   "id": "561b6018",
   "metadata": {},
   "outputs": [
    {
     "name": "stdout",
     "output_type": "stream",
     "text": [
      "Enter the input-890jkcnd98nsj56mxcAA2\n",
      "-89098562\n"
     ]
    }
   ],
   "source": [
    "s=input(\"Enter the input\")\n",
    "n=\"\"\n",
    "a=[0,1,2,3,4,5,6,7,8,9]\n",
    "if s[0]=='-':\n",
    "    n=n+s[0]\n",
    "for c in s:\n",
    "    if c in str(a):\n",
    "        n=n+c\n",
    "print(n)"
   ]
  },
  {
   "cell_type": "code",
   "execution_count": null,
   "id": "24022304",
   "metadata": {},
   "outputs": [],
   "source": [
    "'''\n",
    "Q14]\n",
    "WAP to check whether a number is palindrome or not on following conditions.\n",
    "1. take input number\n",
    "2. add number and its reverse\n",
    "3. check that number is palindrome or not,if not then sum and its reverse\n",
    "'''"
   ]
  },
  {
   "cell_type": "code",
   "execution_count": 13,
   "id": "f976291c",
   "metadata": {},
   "outputs": [
    {
     "name": "stdout",
     "output_type": "stream",
     "text": [
      "Enter the input 88\n",
      "no is:  847\n",
      "Reverse is:  748\n",
      "no is:  1595\n",
      "Reverse is:  5951\n",
      "no is:  7546\n",
      "Reverse is:  6457\n",
      "no is:  14003\n",
      "Reverse is:  30041\n",
      "no is:  44044\n",
      "Reverse is:  44044\n",
      "pallindrome is: 44044\n"
     ]
    }
   ],
   "source": [
    "s=input(\"Enter the input \")\n",
    "s1=int(s[::-1])\n",
    "s2=str(int(s)+s1)\n",
    "while str(s2)!=s2[::-1]:\n",
    "    s2=str(int(s2)+int(s2[::-1]))\n",
    "    print(\"no is: \",s2)\n",
    "    print(\"Reverse is: \",s2[::-1])\n",
    "print(\"pallindrome is:\",s2)"
   ]
  },
  {
   "cell_type": "code",
   "execution_count": null,
   "id": "26d30f52",
   "metadata": {},
   "outputs": [],
   "source": [
    "'''\n",
    "Q15] Write a python function to find and display the five \n",
    "digit number in which the first digit is two more than \n",
    "the second,the second digit is two more than the third,\n",
    "the fourth digit is two less than the third, and the \n",
    "last digit is two more than\n",
    "the fourth.\n",
    "The sum of the third,fourth and fifth digits\n",
    "equals the first.The sum of all the digits is 19\n",
    "'''"
   ]
  },
  {
   "cell_type": "code",
   "execution_count": 29,
   "id": "f1c84e5b",
   "metadata": {},
   "outputs": [
    {
     "name": "stdout",
     "output_type": "stream",
     "text": [
      "75313\n"
     ]
    }
   ],
   "source": [
    "  s=[0,1,2,3,4,5,6,7,8,9]\n",
    "  for c in s:\n",
    "        n1=c+4\n",
    "        n2=c+2\n",
    "        n3=c\n",
    "        n4=c-2\n",
    "        n5=c\n",
    "        #print(n1,n2,n3,n4,n5)\n",
    "        if(n1==n3+n4+n5) and (n1+n2+n3+n4+n5==19):\n",
    "                num=0\n",
    "                for d in [n1,n2,n3,n4,n5]:\n",
    "                    num=num*10+d\n",
    "                print(num)"
   ]
  },
  {
   "cell_type": "code",
   "execution_count": null,
   "id": "80145603",
   "metadata": {},
   "outputs": [],
   "source": []
  }
 ],
 "metadata": {
  "kernelspec": {
   "display_name": "Python 3 (ipykernel)",
   "language": "python",
   "name": "python3"
  },
  "language_info": {
   "codemirror_mode": {
    "name": "ipython",
    "version": 3
   },
   "file_extension": ".py",
   "mimetype": "text/x-python",
   "name": "python",
   "nbconvert_exporter": "python",
   "pygments_lexer": "ipython3",
   "version": "3.9.7"
  }
 },
 "nbformat": 4,
 "nbformat_minor": 5
}
